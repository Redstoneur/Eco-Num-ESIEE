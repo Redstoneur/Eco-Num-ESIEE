{
 "cells": [
  {
   "metadata": {},
   "cell_type": "markdown",
   "source": [
    "# Simulation de la température d'un câble électrique\n",
    "\n",
    "Ce notebook présente une simulation de l'évolution de la température d'un câble électrique en fonction de différents paramètres physiques (température ambiante, vitesse du vent, intensité du courant).\n",
    "Il utilise des équations différentielles et la bibliothèque Plotly pour visualiser les résultats.\n",
    "\n",
    "**Plan du notebook :**\n",
    "1. Import des bibliothèques\n",
    "2. Définition de l'équation différentielle\n",
    "3. Fonction de simulation sur une période donnée\n",
    "4. Simulation répétée sur plusieurs minutes\n",
    "5. Visualisation des résultats\n",
    "6. Exécution d'un exemple complet"
   ],
   "id": "576434ac33f7ec36"
  },
  {
   "metadata": {},
   "cell_type": "markdown",
   "source": "## 1. Import des bibliothèques\n",
   "id": "adc39e9a532bf03a"
  },
  {
   "metadata": {},
   "cell_type": "code",
   "outputs": [],
   "execution_count": null,
   "source": [
    "import time\n",
    "from typing import List, Tuple\n",
    "\n",
    "import numpy as np\n",
    "import plotly.graph_objects as go\n",
    "from scipy.integrate import odeint"
   ],
   "id": "1a5e5727286476da"
  },
  {
   "metadata": {},
   "cell_type": "markdown",
   "source": [
    "## 2. Définition de l'équation différentielle\n",
    "\n",
    "La fonction `d_tc_dt` modélise la variation de la température du câble (`tc`) en fonction du temps.\n",
    "Elle prend en compte :\n",
    "- la température ambiante (`ta`)\n",
    "- la vitesse du vent (`ws`)\n",
    "- l'intensité du courant (`i`)\n",
    "\n",
    "L'équation utilisée est empirique et permet de simuler le refroidissement ou le réchauffement du câble."
   ],
   "id": "6cee155f1bce2826"
  },
  {
   "metadata": {},
   "cell_type": "code",
   "outputs": [],
   "execution_count": null,
   "source": [
    "def d_tc_dt(tc: float, t: float, ta: float, ws: float, i: float) -> float:\n",
    "    \"\"\"\n",
    "    Calcule la dérivée de la température du câble à un instant donné.\n",
    "    :param tc: Température actuelle du câble (°C)\n",
    "    :param t: Temps (s)\n",
    "    :param ta: Température ambiante (°C)\n",
    "    :param ws: Vitesse du vent (m/s)\n",
    "    :param i: Intensité (A)\n",
    "    :return: Dérivée de la température du câble (°C/s)\n",
    "    \"\"\"\n",
    "    a: float = ((ws ** 2) / 1600) * 0.4 + 0.1  # Influence du vent\n",
    "    b: float = ((i ** 1.4) / 73785) * 130      # Influence du courant\n",
    "    return -(1 / 60) * a * (tc - ta - b)"
   ],
   "id": "cd0f369f020322e1"
  },
  {
   "metadata": {},
   "cell_type": "markdown",
   "source": [
    "## 3. Fonction de simulation sur une période donnée\n",
    "\n",
    "La fonction `simulate_cable_temp` simule l'évolution de la température du câble sur une durée définie.\n",
    "Elle utilise la méthode d'intégration numérique `odeint` pour résoudre l'équation différentielle.\n",
    "\n",
    "**Paramètres principaux :**\n",
    "- `ta` : température ambiante\n",
    "- `ws` : vitesse du vent\n",
    "- `i` : intensité du courant\n",
    "- `tc_initial` : température initiale du câble\n",
    "- `simulation_time_min` : durée de la simulation (en secondes)\n",
    "- `microsecond_step` : pas de temps pour l'intégration (plus petit = plus précis)"
   ],
   "id": "f4a590aae0574ac6"
  },
  {
   "metadata": {},
   "cell_type": "code",
   "outputs": [],
   "execution_count": null,
   "source": [
    "def simulate_cable_temp(\n",
    "        ta: float,\n",
    "        ws: float,\n",
    "        i: float,\n",
    "        tc_initial: float,\n",
    "        simulation_time_min: int = 60,\n",
    "        microsecond_step: float = 1e-6\n",
    ") -> Tuple[float, float]:\n",
    "    \"\"\"\n",
    "    Simule la température du câble sur une période donnée.\n",
    "    :param ta: Température ambiante (°C)\n",
    "    :param ws: Vitesse du vent (m/s)\n",
    "    :param i: Intensité (A)\n",
    "    :param tc_initial: Température initiale du câble (°C)\n",
    "    :param simulation_time_min: Durée de la simulation (s)\n",
    "    :param microsecond_step: Pas de temps pour la simulation (s)\n",
    "    :return: Tuple contenant la température finale du câble et le temps d'exécution (s).\n",
    "    \"\"\"\n",
    "    total_time_s: float = simulation_time_min\n",
    "    t: np.ndarray = np.arange(0, total_time_s, microsecond_step)\n",
    "\n",
    "    start_time: float = time.time()\n",
    "    tc_sol: np.ndarray = odeint(d_tc_dt, tc_initial, t, args=(ta, ws, i), hmax=microsecond_step)\n",
    "    end_time: float = time.time()\n",
    "\n",
    "    final_tc: float = float(tc_sol[-1])\n",
    "\n",
    "    return final_tc, end_time - start_time"
   ],
   "id": "c98ffc130d778e47"
  },
  {
   "metadata": {},
   "cell_type": "markdown",
   "source": [
    "## 4. Simulation répétée sur plusieurs minutes\n",
    "\n",
    "La fonction `run_x_min_simulation` permet de simuler l'évolution de la température du câble minute par minute sur une durée totale (par exemple 30 minutes).\n",
    "À chaque itération, la température finale devient la température initiale de la minute suivante.\n",
    "\n",
    "Cela permet de visualiser l'évolution progressive de la température.\n"
   ],
   "id": "57eb2dd6676ce38c"
  },
  {
   "metadata": {},
   "cell_type": "code",
   "outputs": [],
   "execution_count": null,
   "source": [
    "def run_x_min_simulation(\n",
    "        minutes: int = 30,\n",
    "        step: int = 1,\n",
    "        microsecond_step: float = 1e-6\n",
    ") -> Tuple[List[float], List[float]]:\n",
    "    \"\"\"\n",
    "    Simule la température du câble sur plusieurs minutes, en répétant la simulation chaque minute.\n",
    "    :param minutes: Nombre de minutes à simuler (par défaut 30).\n",
    "    :param step: Pas de temps pour la simulation (s)\n",
    "    :param microsecond_step: Pas de temps pour la simulation (s)\n",
    "    :return: Liste des températures et temps d'exécution pour chaque minute.\n",
    "    \"\"\"\n",
    "    ta: float = 25  # Température ambiante (°C)\n",
    "    ws: float = 1   # Vitesse du vent (m/s)\n",
    "    i: float = 300  # Intensité (A)\n",
    "    tc_initial: float = 25  # Température initiale du câble\n",
    "\n",
    "    tc_list: List[float] = []\n",
    "    exec_times: List[float] = []\n",
    "\n",
    "    tc_current: float = tc_initial\n",
    "\n",
    "    minutes_seconde = minutes * 60\n",
    "    for tmp in range(0, minutes_seconde, step):\n",
    "        minute = (tmp + step) / 60\n",
    "        print(f\"Simulation de la minute {minute}...\")\n",
    "        tc: float\n",
    "        exec_time: float\n",
    "        tc, exec_time = simulate_cable_temp(\n",
    "            ta, ws, i, tc_current,\n",
    "            simulation_time_min=step,\n",
    "            microsecond_step=microsecond_step\n",
    "        )\n",
    "        tc_list.append(tc)\n",
    "        exec_times.append(exec_time)\n",
    "        tc_current = tc  # Utiliser la temp finale comme nouvelle initiale\n",
    "\n",
    "        print(\n",
    "            f\"Minute {minute}: Tc = {tc:.2f}°C, \"\n",
    "            f\"Temps = {exec_time:.2f} s\"\n",
    "        )\n",
    "\n",
    "    return tc_list, exec_times"
   ],
   "id": "27a416ad2737d44f"
  },
  {
   "metadata": {},
   "cell_type": "markdown",
   "source": [
    "## 5. Version simplifiée de la simulation\n",
    "\n",
    "La fonction `run_x_min_simulation_simple` permet de lancer la simulation en spécifiant le pas en minutes (au lieu de secondes).\n",
    "Elle convertit simplement le pas en secondes et appelle la fonction précédente."
   ],
   "id": "ad4ed23db43a3b96"
  },
  {
   "metadata": {},
   "cell_type": "code",
   "outputs": [],
   "execution_count": null,
   "source": [
    "def run_x_min_simulation_simple(\n",
    "        minutes: int = 30,\n",
    "        step: int = 1,\n",
    "        microsecond_step: float = 1e-6\n",
    ") -> Tuple[List[float], List[float]]:\n",
    "    \"\"\"\n",
    "    Simule la température du câble sur plusieurs minutes, avec un pas en minutes.\n",
    "    :param minutes: Nombre de minutes à simuler\n",
    "    :param step: Pas de temps pour la simulation (minutes)\n",
    "    :param microsecond_step: Pas de temps pour la simulation (s)\n",
    "    :return: Liste des températures et temps d'exécution pour chaque minute.\n",
    "    \"\"\"\n",
    "    return run_x_min_simulation(\n",
    "        minutes=minutes,\n",
    "        step=step * 60,  # Convertir les minutes en secondes\n",
    "        microsecond_step=microsecond_step\n",
    "    )"
   ],
   "id": "c2c237a83ae5c858"
  },
  {
   "metadata": {},
   "cell_type": "markdown",
   "source": [
    "## 6. Visualisation des résultats\n",
    "\n",
    "La fonction `plot_results` utilise Plotly pour afficher l'évolution de la température du câble au fil du temps.\n",
    "Le graphique est interactif et permet d'explorer les valeurs obtenues."
   ],
   "id": "5921f1e3a4b57732"
  },
  {
   "metadata": {},
   "cell_type": "code",
   "outputs": [],
   "execution_count": null,
   "source": [
    "def plot_results(\n",
    "        tc_list: List[float],\n",
    "        minutes: int = 30\n",
    ") -> None:\n",
    "    \"\"\"\n",
    "    Affiche les résultats de la simulation sous forme de graphique interactif.\n",
    "    :param tc_list: liste des températures du câble\n",
    "    :param minutes: Nombre de minutes simulées\n",
    "    \"\"\"\n",
    "    fig: go.Figure = go.Figure()\n",
    "    fig.add_trace(go.Scatter(y=tc_list, mode='lines+markers', name='Température câble (°C)'))\n",
    "\n",
    "    fig.update_layout(\n",
    "        title=f\"Simulation température câble sur {minutes} minutes\",\n",
    "        xaxis_title=\"Minute\",\n",
    "        yaxis_title=\"Température (°C)\",\n",
    "        template=\"plotly_dark\"\n",
    "    )\n",
    "\n",
    "    fig.show()"
   ],
   "id": "d2deeb6440672814"
  },
  {
   "metadata": {},
   "cell_type": "markdown",
   "source": [
    "## 7. Exécution d'un exemple complet\n",
    "\n",
    "Nous allons maintenant exécuter une simulation sur 30 minutes, avec un pas de 1 minute, puis afficher le résultat."
   ],
   "id": "11f86c889457a8b"
  },
  {
   "metadata": {},
   "cell_type": "markdown",
   "source": [
    "**Paramètres de simulation :**\n",
    "- Température ambiante (°C)\n",
    "- Pas de temps pour la simulation (minutes)\n",
    "- Pas de temps pour la simulation (s)\n",
    "    - `0.01` pour une simulation plus rapide mais moins précise\n",
    "    - `1e-6` pour une simulation plus précise mais plus lente"
   ],
   "id": "769c84cf9b51e049"
  },
  {
   "metadata": {},
   "cell_type": "code",
   "outputs": [],
   "execution_count": null,
   "source": "minutes: int = 30",
   "id": "1e605517f26b86ed"
  },
  {
   "metadata": {},
   "cell_type": "code",
   "outputs": [],
   "execution_count": null,
   "source": "step: int = 1",
   "id": "6bcbe89ade51bdca"
  },
  {
   "metadata": {},
   "cell_type": "code",
   "outputs": [],
   "execution_count": null,
   "source": "microsecond_step: float = 0.01 # 1e-6",
   "id": "497f990091f98d89"
  },
  {
   "metadata": {},
   "cell_type": "code",
   "outputs": [],
   "execution_count": null,
   "source": [
    "tc_list, exec_times = run_x_min_simulation_simple(\n",
    "    minutes=minutes, step=step,\n",
    "    microsecond_step=microsecond_step\n",
    ")\n",
    "plot_results(tc_list, minutes)"
   ],
   "id": "ea709609544554bb"
  }
 ],
 "metadata": {
  "kernelspec": {
   "display_name": "Python 3",
   "language": "python",
   "name": "python3"
  },
  "language_info": {
   "codemirror_mode": {
    "name": "ipython",
    "version": 2
   },
   "file_extension": ".py",
   "mimetype": "text/x-python",
   "name": "python",
   "nbconvert_exporter": "python",
   "pygments_lexer": "ipython2",
   "version": "2.7.6"
  }
 },
 "nbformat": 4,
 "nbformat_minor": 5
}
