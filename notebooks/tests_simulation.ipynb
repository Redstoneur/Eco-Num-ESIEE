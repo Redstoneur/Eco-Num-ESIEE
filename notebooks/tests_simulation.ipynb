{
 "cells": [
  {
   "metadata": {},
   "cell_type": "markdown",
   "source": [
    "# Tests de simulation et analyse des performances\n",
    "\n",
    "Ce notebook permet de :\n",
    "- Comparer différentes méthodes de simulation de la température d'un câble (boucle Python, `scipy.odeint`, Numba, etc.)\n",
    "- Mesurer les temps d'exécution, la consommation d'énergie et la mémoire\n",
    "- Générer des graphiques pour l'analyse technique\n",
    "- Fournir toutes les données nécessaires pour l'étude comparative des méthodes\n",
    "\n",
    "---"
   ]
  },
  {
   "metadata": {},
   "cell_type": "markdown",
   "source": [
    "## 0. Imports et configuration\n",
    "\n",
    "Import des librairies nécessaires pour la simulation, la mesure des performances et l'affichage des résultats."
   ]
  },
  {
   "metadata": {
    "ExecuteTime": {
     "end_time": "2025-05-28T10:42:11.799681Z",
     "start_time": "2025-05-28T10:42:11.787296Z"
    }
   },
   "cell_type": "code",
   "source": [
    "# Vérification de la présence de Cython et du module cython_simulation.py\n",
    "import os\n",
    "import time\n",
    "\n",
    "import matplotlib.pyplot as plt\n",
    "import numpy as np\n",
    "import psutil\n",
    "from codecarbon import EmissionsTracker\n",
    "from numba import jit\n",
    "from scipy.integrate import odeint\n",
    "from tabulate import tabulate\n",
    "\n",
    "%load_ext cython"
   ],
   "outputs": [
    {
     "name": "stdout",
     "output_type": "stream",
     "text": [
      "The cython extension is already loaded. To reload it, use:\n",
      "  %reload_ext cython\n"
     ]
    }
   ],
   "execution_count": 72
  },
  {
   "metadata": {},
   "cell_type": "markdown",
   "source": [
    "## 1. Définition de l'équation différentielle et des paramètres\n",
    "\n",
    "On simule l'évolution de la température d'un câble soumis à une intensité et un vent constants.\n",
    "\n",
    "- `d_tc_dt` : fonction représentant l'équation différentielle du système.\n",
    "- Les paramètres physiques sont fixés pour la comparaison.\n"
   ]
  },
  {
   "metadata": {
    "ExecuteTime": {
     "end_time": "2025-05-28T10:42:11.861010Z",
     "start_time": "2025-05-28T10:42:11.847643Z"
    }
   },
   "cell_type": "code",
   "source": [
    "def d_tc_dt(tc, t, ta, ws, i):\n",
    "    \"\"\"\n",
    "    Calcule la dérivée de la température du câble à l'instant t.\n",
    "\n",
    "    :param tc: Température actuelle du câble (°C)\n",
    "    :param t: Temps (s)\n",
    "    :param ta: Température ambiante (°C)\n",
    "    :param ws: Vitesse du vent (m/s)\n",
    "    :param i: Intensité (A)\n",
    "    :return: Dérivée de la température (°C/s)\n",
    "    \"\"\"\n",
    "    a = ((ws ** 2) / 1600) * 0.4 + 0.1\n",
    "    b = ((i ** 1.4) / 73785) * 130\n",
    "    return -(1 / 60) * a * (tc - ta - b)\n",
    "\n",
    "\n",
    "# Paramètres de simulation\n",
    "ta = 25  # Température ambiante (°C)\n",
    "ws = 1  # Vitesse du vent (m/s)\n",
    "i = 300  # Intensité (A)\n",
    "tc_initial = 25  # Température initiale (°C)\n",
    "simulation_time = 60  # Durée (s)\n",
    "dt = 1e-3  # Pas de temps (s)\n",
    "t = np.arange(0, simulation_time, dt)"
   ],
   "outputs": [],
   "execution_count": 73
  },
  {
   "metadata": {},
   "cell_type": "markdown",
   "source": [
    "## 2. Simulation avec boucle Python naïve\n",
    "\n",
    "Cette méthode implémente explicitement l'intégration d'Euler sur la température du câble.\n",
    "\n",
    "- Fonction : `simulate_python_loop`\n",
    "- Mesure du temps, de la RAM et de l'énergie consommée.\n"
   ]
  },
  {
   "metadata": {},
   "cell_type": "code",
   "outputs": [],
   "execution_count": null,
   "source": [
    "def simulate_python_loop(tc0, t, ta, ws, i):\n",
    "    \"\"\"\n",
    "    Simule l'évolution de la température du câble avec une boucle Python (Euler explicite).\n",
    "\n",
    "    :param tc0: Température initiale (°C)\n",
    "    :param t: Vecteur temps (s)\n",
    "    :param ta: Température ambiante (°C)\n",
    "    :param ws: Vitesse du vent (m/s)\n",
    "    :param i: Intensité (A)\n",
    "    :return: Tableau des températures simulées (°C)\n",
    "    \"\"\"\n",
    "    tc = tc0\n",
    "    tc_list = [tc]\n",
    "    for idx in range(1, len(t)):\n",
    "        dt_local = t[idx] - t[idx - 1]\n",
    "        tc += d_tc_dt(tc, t[idx - 1], ta, ws, i) * dt_local\n",
    "        tc_list.append(tc)\n",
    "    return np.array(tc_list)\n",
    "\n",
    "tracker = EmissionsTracker(measure_power_secs=1, save_to_file=False, log_level=\"warning\")\n",
    "tracker.start()\n",
    "start = time.time()\n",
    "tc_py = simulate_python_loop(tc_initial, t, ta, ws, i)\n",
    "end = time.time()\n",
    "temps_code_py= (end - start) * 60  # en secondes -> minutes\n",
    "energy_py = tracker.stop()\n",
    "ram_py = psutil.Process(os.getpid()).memory_info().rss / 1024 ** 2\n",
    "cpu_py = tracker._conf[\"cpu_model\"]  # Nom du processeur\n",
    "print(f\"Boucle Python : {cpu_py}, énergie {energy_py:.6f} kgCO2, RAM {ram_py:.2f} MB\")"
   ]
  },
  {
   "metadata": {},
   "cell_type": "markdown",
   "source": [
    "## 3. Simulation avec `scipy.odeint`\n",
    "\n",
    "Utilisation du solveur d'équations différentielles de SciPy pour simuler la température.\n",
    "\n",
    "- Méthode plus optimisée et robuste que la boucle naïve.\n",
    "- Mesure des performances identique.\n"
   ]
  },
  {
   "metadata": {
    "ExecuteTime": {
     "end_time": "2025-05-28T10:42:16.512571Z",
     "start_time": "2025-05-28T10:42:14.215888Z"
    }
   },
   "cell_type": "code",
   "source": [
    "start_code_odeint = time.time()\n",
    "# Utilisation directe de odeint, donc temps de code minimal\n",
    "# (on considère la ligne d'appel comme \"implémentation\")\n",
    "end_code_odeint = time.time()\n",
    "temps_code_odeint = (end_code_odeint - start_code_odeint) * 60  # en secondes -> minutes\n",
    "\n",
    "tracker = EmissionsTracker(measure_power_secs=1, save_to_file=False, log_level=\"warning\")\n",
    "tracker.start()\n",
    "start = time.time()\n",
    "tc_odeint = odeint(d_tc_dt, tc_initial, t, args=(ta, ws, i), hmax=dt).flatten()\n",
    "end = time.time()\n",
    "energy_odeint = tracker.stop()\n",
    "ram_odeint = psutil.Process(os.getpid()).memory_info().rss / 1024 ** 2\n",
    "cpu_odeint = tracker._conf[\"cpu_model\"]\n",
    "print(f\"odeint : {cpu_odeint}, énergie {energy_odeint:.6f} kgCO2, RAM {ram_odeint:.2f} MB\")"
   ],
   "outputs": [
    {
     "name": "stderr",
     "output_type": "stream",
     "text": [
      "[codecarbon WARNING @ 12:42:14] Multiple instances of codecarbon are allowed to run at the same time.\n",
      "[codecarbon WARNING @ 12:42:15] No CPU tracking mode found. Falling back on estimation based on TDP for CPU. \n",
      " Windows OS detected: Please install Intel Power Gadget to measure CPU\n",
      "\n",
      "[codecarbon WARNING @ 12:42:15] No CPU tracking mode found. Falling back on CPU constant mode.\n"
     ]
    },
    {
     "name": "stdout",
     "output_type": "stream",
     "text": [
      "odeint : AMD Ryzen 5 4500U with Radeon Graphics, énergie 0.000000 kgCO2, RAM 402.05 MB\n"
     ]
    }
   ],
   "execution_count": 75
  },
  {
   "metadata": {},
   "cell_type": "markdown",
   "source": [
    "## 4. Simulation avec Numba\n",
    "\n",
    "Numba permet d'accélérer la boucle Python via la compilation JIT.\n"
   ]
  },
  {
   "metadata": {
    "ExecuteTime": {
     "end_time": "2025-05-28T10:42:18.856320Z",
     "start_time": "2025-05-28T10:42:16.529006Z"
    }
   },
   "cell_type": "code",
   "source": [
    "start_code_numba = time.time()\n",
    "\n",
    "\n",
    "@jit(nopython=True)\n",
    "def d_tc_dt_numba(tc, t, ta, ws, i):\n",
    "    \"\"\"\n",
    "    Version Numba de l'équation différentielle pour accélération JIT.\n",
    "    \"\"\"\n",
    "    a = ((ws ** 2) / 1600) * 0.4 + 0.1\n",
    "    b = ((i ** 1.4) / 73785) * 130\n",
    "    return -(1 / 60) * a * (tc - ta - b)\n",
    "\n",
    "\n",
    "@jit(nopython=True)\n",
    "def simulate_numba(tc0, t, ta, ws, i):\n",
    "    \"\"\"\n",
    "    Simule l'évolution de la température du câble avec Numba (Euler explicite compilé).\n",
    "    \"\"\"\n",
    "    tc = tc0\n",
    "    tc_list = np.empty(len(t))\n",
    "    tc_list[0] = tc\n",
    "    for idx in range(1, len(t)):\n",
    "        dt_local = t[idx] - t[idx - 1]\n",
    "        tc += d_tc_dt_numba(tc, t[idx - 1], ta, ws, i) * dt_local\n",
    "        tc_list[idx] = tc\n",
    "    return tc_list\n",
    "\n",
    "\n",
    "end_code_numba = time.time()\n",
    "temps_code_numba = (end_code_numba - start_code_numba) * 60  # en secondes -> minutes\n",
    "\n",
    "tracker = EmissionsTracker(measure_power_secs=1, save_to_file=False, log_level=\"warning\")\n",
    "tracker.start()\n",
    "start = time.time()\n",
    "tc_numba = simulate_numba(tc_initial, t, ta, ws, i)\n",
    "end = time.time()\n",
    "energy_numba = tracker.stop()\n",
    "ram_numba = psutil.Process(os.getpid()).memory_info().rss / 1024 ** 2\n",
    "cpu_numba = tracker._conf[\"cpu_model\"]\n",
    "print(f\"Numba : {cpu_numba}, énergie {energy_numba:.6f} kgCO2, RAM {ram_numba:.2f} MB\")"
   ],
   "outputs": [
    {
     "name": "stderr",
     "output_type": "stream",
     "text": [
      "[codecarbon WARNING @ 12:42:16] Multiple instances of codecarbon are allowed to run at the same time.\n",
      "[codecarbon WARNING @ 12:42:18] No CPU tracking mode found. Falling back on estimation based on TDP for CPU. \n",
      " Windows OS detected: Please install Intel Power Gadget to measure CPU\n",
      "\n",
      "[codecarbon WARNING @ 12:42:18] No CPU tracking mode found. Falling back on CPU constant mode.\n"
     ]
    },
    {
     "name": "stdout",
     "output_type": "stream",
     "text": [
      "Numba : AMD Ryzen 5 4500U with Radeon Graphics, énergie 0.000000 kgCO2, RAM 401.14 MB\n"
     ]
    }
   ],
   "execution_count": 76
  },
  {
   "metadata": {},
   "cell_type": "markdown",
   "source": [
    "## 4.b. Simulation avec Cython\n",
    "\n",
    "Cython permet de compiler du code Python en C pour accélérer les calculs numériques.  \n",
    "Ici, nous testons une version Cythonisée de la boucle d'intégration si le module cython_simulation.py compilé est disponible.\n"
   ]
  },
  {
   "metadata": {
    "ExecuteTime": {
     "end_time": "2025-05-28T10:42:19.009664Z",
     "start_time": "2025-05-28T10:42:18.920385Z"
    }
   },
   "cell_type": "code",
   "source": [
    "%%cython\n",
    "cimport numpy as cnp\n",
    "import numpy as np\n",
    "\n",
    "# Exemple de d_tc_dt compilé, à adapter selon ton calcul réel\n",
    "cdef double d_tc_dt(double tc, double t, double ta, double ws, double i):\n",
    "    return -0.01 * (tc - ta) + 0.005 * ws + 0.002 * i\n",
    "\n",
    "def simulate_cython(double tc0, cnp.ndarray[cnp.double_t, ndim=1] t, double ta, double ws, double i):\n",
    "    \"\"\"\n",
    "    Simule l'évolution de la température du câble avec Cython (Euler explicite compilé).\n",
    "    \"\"\"\n",
    "    cdef double tc = tc0\n",
    "    cdef int n = t.shape[0]\n",
    "    cdef cnp.ndarray[cnp.double_t, ndim=1] tc_list = np.empty(n, dtype=np.float64)\n",
    "    tc_list[0] = tc\n",
    "\n",
    "    cdef double dt_local\n",
    "    cdef int idx\n",
    "    for idx in range(1, n):\n",
    "        dt_local = t[idx] - t[idx - 1]\n",
    "        tc += d_tc_dt(tc, t[idx - 1], ta, ws, i) * dt_local\n",
    "        tc_list[idx] = tc\n",
    "\n",
    "    return tc_list"
   ],
   "outputs": [],
   "execution_count": 77
  },
  {
   "metadata": {
    "ExecuteTime": {
     "end_time": "2025-05-28T10:42:21.085845Z",
     "start_time": "2025-05-28T10:42:19.044252Z"
    }
   },
   "cell_type": "code",
   "source": [
    "start_code_cython = time.time()\n",
    "tracker = EmissionsTracker(measure_power_secs=1, save_to_file=False, log_level=\"warning\")\n",
    "tracker.start()\n",
    "start = time.time()\n",
    "tc_cython = simulate_cython(tc_initial, t, ta, ws, i)\n",
    "end = time.time()\n",
    "energy_cython = tracker.stop()\n",
    "ram_cython = psutil.Process(os.getpid()).memory_info().rss / 1024 ** 2\n",
    "cpu_cython = tracker._conf[\"cpu_model\"]\n",
    "end_code_cython = time.time()\n",
    "temps_code_cython = (end_code_cython - start_code_cython) * 60  # en secondes -> minutes\n",
    "print(f\"Cython : {cpu_cython}, énergie {energy_cython:.6f} kgCO2, RAM {ram_cython:.2f} MB\")\n"
   ],
   "outputs": [
    {
     "name": "stderr",
     "output_type": "stream",
     "text": [
      "[codecarbon WARNING @ 12:42:19] Multiple instances of codecarbon are allowed to run at the same time.\n",
      "[codecarbon WARNING @ 12:42:20] No CPU tracking mode found. Falling back on estimation based on TDP for CPU. \n",
      " Windows OS detected: Please install Intel Power Gadget to measure CPU\n",
      "\n",
      "[codecarbon WARNING @ 12:42:20] No CPU tracking mode found. Falling back on CPU constant mode.\n"
     ]
    },
    {
     "name": "stdout",
     "output_type": "stream",
     "text": [
      "Cython : AMD Ryzen 5 4500U with Radeon Graphics, énergie 0.000000 kgCO2, RAM 401.62 MB\n"
     ]
    }
   ],
   "execution_count": 78
  },
  {
   "metadata": {},
   "cell_type": "markdown",
   "source": [
    "## 5. Comparaison graphique des résultats\n",
    "\n",
    "Affichage des courbes de température pour chaque méthode afin de vérifier la cohérence numérique.\n"
   ]
  },
  {
   "metadata": {
    "ExecuteTime": {
     "end_time": "2025-05-28T10:42:21.429172Z",
     "start_time": "2025-05-28T10:42:21.123735Z"
    }
   },
   "cell_type": "code",
   "source": [
    "plt.figure(figsize=(10, 6))\n",
    "plt.plot(t, tc_py, label=\"Boucle Python\")\n",
    "plt.plot(t, tc_odeint, label=\"odeint\")\n",
    "plt.plot(t, tc_numba, label=\"Numba\")\n",
    "plt.plot(t, tc_cython, label=\"Cython\")\n",
    "plt.xlabel(\"Temps (s)\")\n",
    "plt.ylabel(\"Température (°C)\")\n",
    "plt.title(\"Comparaison des méthodes de simulation\")\n",
    "plt.legend()\n",
    "plt.grid()\n",
    "plt.show()"
   ],
   "outputs": [
    {
     "data": {
      "text/plain": [
       "<Figure size 1000x600 with 1 Axes>"
      ],
      "image/png": "[encoded data removed]"
     },
     "metadata": {},
     "output_type": "display_data"
    }
   ],
   "execution_count": 79
  },
  {
   "metadata": {},
   "cell_type": "markdown",
   "source": [
    "## 6. Test : 30x 1min vs 1x30min\n",
    "\n",
    "Ce test compare deux stratégies de prévision :\n",
    "- 30 simulations consécutives de 1 minute (état réinjecté à chaque minute)\n",
    "- 1 simulation directe de 30 minutes\n",
    "\n",
    "Cela permet d'évaluer l'impact de la granularité sur la performance et la précision.\n"
   ]
  },
  {
   "metadata": {
    "ExecuteTime": {
     "end_time": "2025-05-28T10:42:30.204703Z",
     "start_time": "2025-05-28T10:42:21.462357Z"
    }
   },
   "cell_type": "code",
   "source": [
    "def run_1min(method, *args):\n",
    "    \"\"\"\n",
    "    Lance une simulation de 1 minute avec la méthode spécifiée.\n",
    "\n",
    "    :param method: Fonction de simulation (ex: simulate_python_loop)\n",
    "    :param args: Arguments pour la fonction de simulation\n",
    "    :return: Température finale après 1 minute\n",
    "    \"\"\"\n",
    "    t_1min = np.arange(0, 60, dt)\n",
    "    return method(*args, t_1min, ta, ws, i)\n",
    "\n",
    "\n",
    "def run_30x1min(method, *args):\n",
    "    \"\"\"\n",
    "    Effectue 30 simulations consécutives de 1 minute chacune.\n",
    "\n",
    "    :param method: Fonction de simulation\n",
    "    :param args: Arguments pour la fonction de simulation\n",
    "    :return: Température finale après 30 minutes\n",
    "    \"\"\"\n",
    "    tc = tc_initial\n",
    "    for _ in range(30):\n",
    "        tc_list = method(tc, np.arange(0, 60, dt), ta, ws, i)\n",
    "        tc = tc_list[-1]\n",
    "    return tc\n",
    "\n",
    "\n",
    "def run_1x30min(method, *args):\n",
    "    \"\"\"\n",
    "    Effectue une simulation unique de 30 minutes.\n",
    "\n",
    "    :param method: Fonction de simulation\n",
    "    :param args: Arguments pour la fonction de simulation\n",
    "    :return: Température finale après 30 minutes\n",
    "    \"\"\"\n",
    "    t_30min = np.arange(0, 1800, dt)\n",
    "    tc_list = method(*args, t_30min, ta, ws, i)\n",
    "    return tc_list[-1]\n",
    "\n",
    "\n",
    "# Boucle Python\n",
    "tracker = EmissionsTracker(measure_power_secs=1, save_to_file=False, log_level=\"warning\")\n",
    "tracker.start()\n",
    "start = time.time()\n",
    "tc_30x1min_py = run_30x1min(simulate_python_loop, tc_initial)\n",
    "end = time.time()\n",
    "energy_30x1min_py = tracker.stop()\n",
    "cpu_30x1min_py = tracker._conf[\"cpu_model\"]\n",
    "ram_30x1min_py = psutil.Process(os.getpid()).memory_info().rss / 1024 ** 2\n",
    "time_30x1min_py = end - start\n",
    "\n",
    "tracker = EmissionsTracker(measure_power_secs=1, save_to_file=False, log_level=\"warning\")\n",
    "tracker.start()\n",
    "start = time.time()\n",
    "tc_1x30min_py = run_1x30min(simulate_python_loop, tc_initial)\n",
    "end = time.time()\n",
    "energy_1x30min_py = tracker.stop()\n",
    "cpu_1x30min_py = tracker._conf[\"cpu_model\"]\n",
    "ram_1x30min_py = psutil.Process(os.getpid()).memory_info().rss / 1024 ** 2\n",
    "time_1x30min_py = end - start\n",
    "\n",
    "print(f\"Boucle Python 30x1min : {time_30x1min_py:.3f}s, énergie {energy_30x1min_py:.6f} kgCO2, RAM {ram_30x1min_py:.2f} MB, CPU {cpu_30x1min_py}\")\n",
    "print(f\"Boucle Python 1x30min : {time_1x30min_py:.3f}s, énergie {energy_1x30min_py:.6f} kgCO2, RAM {ram_1x30min_py:.2f} MB, CPU {cpu_1x30min_py}\")"
   ],
   "outputs": [
    {
     "name": "stderr",
     "output_type": "stream",
     "text": [
      "[codecarbon WARNING @ 12:42:21] Multiple instances of codecarbon are allowed to run at the same time.\n",
      "[codecarbon WARNING @ 12:42:23] No CPU tracking mode found. Falling back on estimation based on TDP for CPU. \n",
      " Windows OS detected: Please install Intel Power Gadget to measure CPU\n",
      "\n",
      "[codecarbon WARNING @ 12:42:23] No CPU tracking mode found. Falling back on CPU constant mode.\n",
      "[codecarbon WARNING @ 12:42:25] Multiple instances of codecarbon are allowed to run at the same time.\n",
      "[codecarbon WARNING @ 12:42:27] No CPU tracking mode found. Falling back on estimation based on TDP for CPU. \n",
      " Windows OS detected: Please install Intel Power Gadget to measure CPU\n",
      "\n",
      "[codecarbon WARNING @ 12:42:27] No CPU tracking mode found. Falling back on CPU constant mode.\n"
     ]
    },
    {
     "name": "stdout",
     "output_type": "stream",
     "text": [
      "Boucle Python 30x1min : 2.418s, énergie 0.000003 kgCO2, RAM 402.30 MB, CPU AMD Ryzen 5 4500U with Radeon Graphics\n",
      "Boucle Python 1x30min : 2.316s, énergie 0.000003 kgCO2, RAM 400.68 MB, CPU AMD Ryzen 5 4500U with Radeon Graphics\n"
     ]
    }
   ],
   "execution_count": 80
  },
  {
   "metadata": {},
   "cell_type": "markdown",
   "source": [
    "## 7. Complexité estimée (empirique)\n",
    "\n",
    "Résumé de la complexité algorithmique de chaque méthode.\n",
    "\n",
    "- Boucle Python : O(N) (itération simple sur le temps)\n",
    "- odeint : O(N) (méthode optimisée, dépend du solveur)\n",
    "- Numba : O(N) (identique à la boucle Python, mais compilée)\n"
   ]
  },
  {
   "metadata": {},
   "cell_type": "code",
   "outputs": [],
   "execution_count": null,
   "source": [
    "print(\"Complexité estimée :\")\n",
    "print(\"- Boucle Python : O(N) (itération simple sur le temps)\")\n",
    "print(\"- odeint : O(N) (méthode optimisée, dépend du solveur)\")\n",
    "print(\"- Numba : O(N) (identique à la boucle Python, mais compilée)\")\n",
    "print(\"- Cython : O(N) (similaire à Numba, mais avec overhead de compilation)\")"
   ]
  },
  {
   "metadata": {},
   "cell_type": "markdown",
   "source": [
    "## 8. Tableau récapitulatif des performances\n",
    "\n",
    "Ce tableau synthétise toutes les mesures de performance pour chaque méthode de simulation testée, ainsi que pour les tests de granularité temporelle.  \n",
    "- **CPU** : Temps d'exécution (s)\n",
    "- **RAM** : Mémoire utilisée (MB)\n",
    "- **Énergie** : Énergie consommée (kgCO2, notation scientifique)\n",
    "- **Temps de code** : Temps d'implémentation réel (en minutes, mesuré ou estimé)\n",
    "- **Complexité estimée** : Difficulté de l'algorithme (de * à *****)\n"
   ]
  },
  {
   "metadata": {},
   "cell_type": "code",
   "outputs": [],
   "execution_count": null,
   "source": [
    "def sci(val):\n",
    "    try:\n",
    "        return f\"{float(val):.10e}\"\n",
    "    except:\n",
    "        return val\n",
    "\n",
    "\n",
    "table_final = [\n",
    "    [\n",
    "        \"Boucle Python\",\n",
    "        cpu_py,\n",
    "        sci(ram_py),\n",
    "        sci(energy_py),\n",
    "        sci(temps_code_py),\n",
    "        \"*\"\n",
    "    ],\n",
    "    [\n",
    "        \"Scipy odeint\",\n",
    "        cpu_odeint,\n",
    "        sci(ram_odeint),\n",
    "        sci(energy_odeint),\n",
    "        sci(temps_code_odeint),\n",
    "        \"**\"\n",
    "    ],\n",
    "    [\n",
    "        \"Jit numba\",\n",
    "        cpu_numba,\n",
    "        sci(ram_numba),\n",
    "        sci(energy_numba),\n",
    "        sci(temps_code_numba),\n",
    "        \"**\"\n",
    "    ],\n",
    "    [\n",
    "        \"Cython\",\n",
    "        cpu_cython,\n",
    "        sci(ram_cython),\n",
    "        sci(energy_cython),\n",
    "        sci(temps_code_cython),\n",
    "        \"***\"\n",
    "    ],\n",
    "    [\n",
    "        \"30x 1min\",\n",
    "        cpu_30x1min_py,\n",
    "        sci(ram_30x1min_py),\n",
    "        sci(energy_30x1min_py),\n",
    "        sci(time_30x1min_py),\n",
    "        \"*\"\n",
    "    ],\n",
    "    [\n",
    "        \"1x30min\",\n",
    "        cpu_1x30min_py,\n",
    "        sci(ram_1x30min_py),\n",
    "        sci(energy_1x30min_py),\n",
    "        sci(time_1x30min_py),\n",
    "        \"*\"\n",
    "    ]\n",
    "]\n",
    "\n",
    "headers_final = [\n",
    "    \"Testcase\",\n",
    "    \"CPU\",\n",
    "    \"RAM (MB)\",\n",
    "    \"Énergie (kgCO2)\",\n",
    "    \"Temps de code (min)\",\n",
    "    \"Complexité estimée (* = simple, ***** = très complexe)\"\n",
    "]\n",
    "\n",
    "print(tabulate(table_final, headers=headers_final, tablefmt=\"github\"))\n"
   ]
  }
 ],
 "metadata": {
  "kernelspec": {
   "display_name": "Python 3",
   "language": "python",
   "name": "python3"
  },
  "language_info": {
   "name": "python",
   "version": ""
  }
 },
 "nbformat": 4,
 "nbformat_minor": 2
}
