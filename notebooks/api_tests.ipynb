{
 "cells": [
  {
   "metadata": {},
   "cell_type": "markdown",
   "source": [
    "# Test énergie backend API\n",
    "\n",
    "---\n",
    "\n",
    "## Objectif\n",
    "\n",
    "Ce notebook simule des appels concurrents à l'API `/cable_temperature_consumption_simulation` pour évaluer l'empreinte énergétique backend selon la charge (nombre d'utilisateurs/minute).  \n",
    "L'énergie affichée correspond à la somme des valeurs `co2_emissions` retournées par l'API pour chaque appel.\n",
    "\n",
    "- **10 utilisateurs/minute** : 10 requêtes simultanées.\n",
    "- **100 utilisateurs/minute** : 100 requêtes simultanées.\n",
    "- **1000 utilisateurs/minute** : 1000 requêtes simultanées.\n",
    "- **1000 utilisateurs/minute + cache** : 1000 requêtes avec le cache activé côté backend (si disponible).\n",
    "\n",
    "Le tableau final permet de comparer l'impact énergétique de l'API selon la charge et l'utilisation éventuelle d'un cache.\n",
    "\n",
    "---\n",
    "\n",
    "## Interprétation\n",
    "\n",
    "- **Énergie (kgCO2)** : somme des émissions de CO₂ rapportées par l'API pour tous les utilisateurs du scénario.\n",
    "- Pour une analyse fine, adaptez le paramètre `use_cache` selon la logique de votre backend.\n",
    "\n",
    "---\n",
    "\n",
    "> **Note** : Ce notebook nécessite que le serveur FastAPI soit lancé et accessible à l'URL `http://localhost:8000`.\n",
    "> Assurez-vous que le backend est opérationnel avant de l'exécuter.\n",
    "> Voir [README.md](../README.md) pour les instructions de lancement du serveur."
   ],
   "id": "5224971edf69a1ad"
  },
  {
   "metadata": {},
   "cell_type": "markdown",
   "source": [
    "## Imports\n",
    "\n",
    "Ce notebook nécessite les bibliothèques suivantes :\n",
    "- `threading`\n",
    "- `requests`\n",
    "- `codecarbon`\n",
    "- `tabulate`"
   ],
   "id": "98915f4e2a9e9580"
  },
  {
   "metadata": {
    "ExecuteTime": {
     "end_time": "2025-05-30T14:53:22.859993Z",
     "start_time": "2025-05-30T14:53:21.474226Z"
    }
   },
   "cell_type": "code",
   "source": [
    "import threading\n",
    "\n",
    "import requests\n",
    "from codecarbon import EmissionsTracker\n",
    "from tabulate import tabulate"
   ],
   "id": "668466991a47925e",
   "outputs": [],
   "execution_count": 1
  },
  {
   "metadata": {},
   "cell_type": "markdown",
   "source": [
    "## Configuration de l'API\n",
    "\n",
    "Cette section configure l'URL de l'API et les paramètres"
   ],
   "id": "7075aa52de0eac86"
  },
  {
   "metadata": {
    "ExecuteTime": {
     "end_time": "2025-05-30T14:53:27.965130Z",
     "start_time": "2025-05-30T14:53:27.944123Z"
    }
   },
   "cell_type": "code",
   "source": [
    "API_URL = \"http://localhost:8000/cable_temperature_consumption_simulation\"\n",
    "\n",
    "payload = {\n",
    "    \"ambient_temperature\": 25,\n",
    "    \"wind_speed\": 2,\n",
    "    \"current_intensity\": 300,\n",
    "    \"initial_cable_temperature\": 25,\n",
    "    \"simulation_duration\": 60,\n",
    "    \"time_step\": 1e-1\n",
    "}"
   ],
   "id": "ff88426092f564c2",
   "outputs": [],
   "execution_count": 2
  },
  {
   "metadata": {},
   "cell_type": "markdown",
   "source": [
    "## Vérification du serveur API\n",
    "\n",
    "Cette section vérifie que le serveur FastAPI est bien lancé et accessible."
   ],
   "id": "4afbd6baf6764e96"
  },
  {
   "metadata": {
    "ExecuteTime": {
     "end_time": "2025-05-30T14:53:31.210812Z",
     "start_time": "2025-05-30T14:53:31.172075Z"
    }
   },
   "cell_type": "code",
   "source": [
    "# Vérification que le serveur est bien lancé\n",
    "try:\n",
    "    r = requests.get(\"http://localhost:8000/health\", timeout=3)\n",
    "    if r.status_code != 200:\n",
    "        raise Exception(\"Le serveur API ne répond pas correctement.\")\n",
    "except Exception as e:\n",
    "    print(\"ERREUR : Le serveur FastAPI n'est pas lancé ou inaccessible.\")\n",
    "    print(\"Démarrez le backend avant d'exécuter ce notebook.\")\n",
    "    raise SystemExit(e)"
   ],
   "id": "8eb2b20a6e8fa594",
   "outputs": [],
   "execution_count": 3
  },
  {
   "metadata": {},
   "cell_type": "markdown",
   "source": [
    "## Création des fonctions de test\n",
    "\n",
    "Cette section définit les fonctions nécessaires pour envoyer des requêtes POST à l'API et mesurer l'énergie consommée."
   ],
   "id": "c61a87ab770380bb"
  },
  {
   "metadata": {
    "ExecuteTime": {
     "end_time": "2025-05-30T14:53:33.246262Z",
     "start_time": "2025-05-30T14:53:33.236736Z"
    }
   },
   "cell_type": "code",
   "source": [
    "def sci(val):\n",
    "    try:\n",
    "        return f\"{float(val):.10e}\"\n",
    "    except:\n",
    "        return val\n",
    "\n",
    "\n",
    "def send_post_request() -> float:\n",
    "    \"\"\"\n",
    "    Envoie une requête POST à l'API pour simuler la consommation d'énergie.\n",
    "    :return: L'énergie consommée en kgCO2.\n",
    "    \"\"\"\n",
    "    res = requests.post(API_URL, params=payload)\n",
    "    if res.status_code != 200:\n",
    "        raise Exception(f\"Erreur lors de l'appel à l'API : {res.status_code} - {res.text}\")\n",
    "    data = res.json()\n",
    "    if \"co2_emissions\" not in data:\n",
    "        raise Exception(\"La réponse de l'API ne contient pas 'co2_emissions'.\")\n",
    "    return data[\"co2_emissions\"]\n",
    "\n",
    "\n",
    "def run_users_test(nb_users: int, use_cache: bool = False) -> float:\n",
    "    \"\"\"\n",
    "    Exécute un test avec un nombre donné d'utilisateurs simulés.\n",
    "    :param nb_users: Nombre d'utilisateurs à simuler.\n",
    "    :param use_cache: Indique si le cache doit être utilisé (optionnel).\n",
    "    :return: L'énergie totale consommée en kgCO2.\n",
    "    \"\"\"\n",
    "    payload[\"use_cache\"] = use_cache  # Ajouter un paramètre pour le cache si nécessaire\n",
    "\n",
    "    results = []\n",
    "    threads = []\n",
    "\n",
    "    def thread_func():\n",
    "        try:\n",
    "            val = send_post_request()\n",
    "            results.append(val)\n",
    "        except Exception:\n",
    "            raise SystemExit(e)\n",
    "\n",
    "    tracker = EmissionsTracker(measure_power_secs=1, save_to_file=False, log_level=\"warning\")\n",
    "    tracker.start()\n",
    "\n",
    "    for _ in range(nb_users):\n",
    "        thread = threading.Thread(target=thread_func)\n",
    "        threads.append(thread)\n",
    "        thread.start()\n",
    "\n",
    "    for thread in threads:\n",
    "        thread.join()\n",
    "\n",
    "    co2_energy = sum(results)\n",
    "    co2_energy += tracker.stop()\n",
    "    return co2_energy\n"
   ],
   "id": "5ce99b21ce21945e",
   "outputs": [],
   "execution_count": 4
  },
  {
   "metadata": {},
   "cell_type": "markdown",
   "source": [
    "## Exécution des tests\n",
    "\n",
    "Cette section exécute les tests pour différents nombres d'utilisateurs et affiche les résultats."
   ],
   "id": "766ba78657c9a363"
  },
  {
   "metadata": {},
   "cell_type": "markdown",
   "source": "### Test avec 10 utilisateurs/minute",
   "id": "adce1c4436c34401"
  },
  {
   "metadata": {
    "ExecuteTime": {
     "end_time": "2025-05-30T14:53:52.612355Z",
     "start_time": "2025-05-30T14:53:37.081585Z"
    }
   },
   "cell_type": "code",
   "source": [
    "co2_energy_10 = run_users_test(10)\n",
    "print(f\"10 utilisateurs/minute : {sci(co2_energy_10)} kgCO2\")"
   ],
   "id": "3f03d51ac68b3648",
   "outputs": [
    {
     "name": "stderr",
     "output_type": "stream",
     "text": [
      "[codecarbon WARNING @ 16:53:37] Multiple instances of codecarbon are allowed to run at the same time.\n",
      "[codecarbon WARNING @ 16:53:39] No CPU tracking mode found. Falling back on estimation based on TDP for CPU. \n",
      " Windows OS detected: Please install Intel Power Gadget to measure CPU\n",
      "\n",
      "[codecarbon WARNING @ 16:53:39] No CPU tracking mode found. Falling back on CPU constant mode.\n"
     ]
    },
    {
     "name": "stdout",
     "output_type": "stream",
     "text": [
      "10 utilisateurs/minute : 1.7442356479e-05 kgCO2\n"
     ]
    }
   ],
   "execution_count": 5
  },
  {
   "metadata": {},
   "cell_type": "markdown",
   "source": "### Test avec 100 utilisateurs/minute",
   "id": "8ea4205e346b1ee2"
  },
  {
   "metadata": {
    "ExecuteTime": {
     "end_time": "2025-05-30T14:56:25.252513Z",
     "start_time": "2025-05-30T14:53:57.799589Z"
    }
   },
   "cell_type": "code",
   "source": [
    "co2_energy_100 = run_users_test(100)\n",
    "print(f\"100 utilisateurs/minute : {sci(co2_energy_100)} kgCO2\")"
   ],
   "id": "9d8dc7e0fda5ab92",
   "outputs": [
    {
     "name": "stderr",
     "output_type": "stream",
     "text": [
      "[codecarbon WARNING @ 16:53:57] Multiple instances of codecarbon are allowed to run at the same time.\n",
      "[codecarbon WARNING @ 16:53:59] No CPU tracking mode found. Falling back on estimation based on TDP for CPU. \n",
      " Windows OS detected: Please install Intel Power Gadget to measure CPU\n",
      "\n",
      "[codecarbon WARNING @ 16:53:59] No CPU tracking mode found. Falling back on CPU constant mode.\n"
     ]
    },
    {
     "name": "stdout",
     "output_type": "stream",
     "text": [
      "100 utilisateurs/minute : 2.0746997100e-04 kgCO2\n"
     ]
    }
   ],
   "execution_count": 6
  },
  {
   "metadata": {},
   "cell_type": "markdown",
   "source": "### Test avec 1000 utilisateurs/minute",
   "id": "9bc55bf4193a956b"
  },
  {
   "metadata": {
    "ExecuteTime": {
     "end_time": "2025-05-30T15:19:36.068950Z",
     "start_time": "2025-05-30T14:56:25.332133Z"
    }
   },
   "cell_type": "code",
   "source": [
    "co2_energy_1000 = run_users_test(1000)\n",
    "print(f\"1000 utilisateurs/minute : {sci(co2_energy_1000)} kgCO2\")"
   ],
   "id": "2dc61e03d6fa53bf",
   "outputs": [
    {
     "name": "stderr",
     "output_type": "stream",
     "text": [
      "[codecarbon WARNING @ 16:56:25] Multiple instances of codecarbon are allowed to run at the same time.\n",
      "[codecarbon WARNING @ 16:56:27] No CPU tracking mode found. Falling back on estimation based on TDP for CPU. \n",
      " Windows OS detected: Please install Intel Power Gadget to measure CPU\n",
      "\n",
      "[codecarbon WARNING @ 16:56:27] No CPU tracking mode found. Falling back on CPU constant mode.\n"
     ]
    },
    {
     "name": "stdout",
     "output_type": "stream",
     "text": [
      "1000 utilisateurs/minute : 2.3857472970e-03 kgCO2\n"
     ]
    }
   ],
   "execution_count": 7
  },
  {
   "metadata": {},
   "cell_type": "markdown",
   "source": "### Test avec 1000 utilisateurs/minute + cache",
   "id": "35d272bba73b1ef7"
  },
  {
   "metadata": {
    "ExecuteTime": {
     "end_time": "2025-05-30T15:43:42.365846Z",
     "start_time": "2025-05-30T15:19:36.105955Z"
    }
   },
   "cell_type": "code",
   "source": [
    "co2_energy_1000_cache = run_users_test(1000, use_cache=True)\n",
    "print(f\"1000 utilisateurs/minute + cache : {sci(co2_energy_1000_cache)} kgCO2\")"
   ],
   "id": "f1695eb117b68ae2",
   "outputs": [
    {
     "name": "stderr",
     "output_type": "stream",
     "text": [
      "[codecarbon WARNING @ 17:19:36] Multiple instances of codecarbon are allowed to run at the same time.\n",
      "[codecarbon WARNING @ 17:19:37] No CPU tracking mode found. Falling back on estimation based on TDP for CPU. \n",
      " Windows OS detected: Please install Intel Power Gadget to measure CPU\n",
      "\n",
      "[codecarbon WARNING @ 17:19:37] No CPU tracking mode found. Falling back on CPU constant mode.\n"
     ]
    },
    {
     "name": "stdout",
     "output_type": "stream",
     "text": [
      "1000 utilisateurs/minute + cache : 4.1472210234e-03 kgCO2\n"
     ]
    }
   ],
   "execution_count": 8
  },
  {
   "metadata": {},
   "cell_type": "markdown",
   "source": [
    "## Résultats\n",
    "\n",
    "Cette section affiche les résultats des tests sous forme de tableau pour une comparaison facile."
   ],
   "id": "f0df83750df47488"
  },
  {
   "metadata": {
    "ExecuteTime": {
     "end_time": "2025-05-30T15:43:42.488005Z",
     "start_time": "2025-05-30T15:43:42.472858Z"
    }
   },
   "cell_type": "code",
   "source": [
    "header = [\"Testcase\", \"Énergie (kgCO2)\"]\n",
    "data = [\n",
    "    [\"10 utilisateurs/minute\", f\"{sci(co2_energy_10)}\"],\n",
    "    [\"100 utilisateurs/minute\", f\"{sci(co2_energy_100)}\"],\n",
    "    [\"1000 utilisateurs/minute\", f\"{sci(co2_energy_1000)}\"],\n",
    "    [\"1000 utilisateurs/minute + cache\", f\"{sci(co2_energy_1000_cache)}\"]\n",
    "]\n",
    "\n",
    "print(tabulate(data, headers=header, tablefmt=\"github\"))\n"
   ],
   "id": "80d52950bf404719",
   "outputs": [
    {
     "name": "stdout",
     "output_type": "stream",
     "text": [
      "| Testcase                         |   Énergie (kgCO2) |\n",
      "|----------------------------------|-------------------|\n",
      "| 10 utilisateurs/minute           |       1.74424e-05 |\n",
      "| 100 utilisateurs/minute          |       0.00020747  |\n",
      "| 1000 utilisateurs/minute         |       0.00238575  |\n",
      "| 1000 utilisateurs/minute + cache |       0.00414722  |\n"
     ]
    }
   ],
   "execution_count": 9
  }
 ],
 "metadata": {
  "kernelspec": {
   "display_name": "Python 3",
   "language": "python",
   "name": "python3"
  },
  "language_info": {
   "codemirror_mode": {
    "name": "ipython",
    "version": 2
   },
   "file_extension": ".py",
   "mimetype": "text/x-python",
   "name": "python",
   "nbconvert_exporter": "python",
   "pygments_lexer": "ipython2",
   "version": "2.7.6"
  }
 },
 "nbformat": 4,
 "nbformat_minor": 5
}
